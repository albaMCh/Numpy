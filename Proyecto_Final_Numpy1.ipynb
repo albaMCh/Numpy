{
  "nbformat": 4,
  "nbformat_minor": 0,
  "metadata": {
    "colab": {
      "provenance": [],
      "include_colab_link": true
    },
    "kernelspec": {
      "name": "python3",
      "display_name": "Python 3"
    },
    "language_info": {
      "name": "python"
    }
  },
  "cells": [
    {
      "cell_type": "markdown",
      "metadata": {
        "id": "view-in-github",
        "colab_type": "text"
      },
      "source": [
        "<a href=\"https://colab.research.google.com/github/albaMCh/Numpy/blob/main/Proyecto_Final_Numpy1.ipynb\" target=\"_parent\"><img src=\"https://colab.research.google.com/assets/colab-badge.svg\" alt=\"Open In Colab\"/></a>"
      ]
    },
    {
      "cell_type": "markdown",
      "source": [
        "#Singular Value Descomposition (SVD) con Numpy\n",
        "\n",
        "La factorización de matrices o descomposición de matrices consiste en describir una matriz utilizando sus elementos constitutivos. El método más conocido y utilizado para esta factorización matricial es la descomposición en valores singulares. Se utiliza para la compresión, eliminación de ruido, reducción de datos...\n",
        "\n",
        "**IMPORTANTE:** si te aparece el error 'TruncatedSVD' object is not callable reinicia el entorno de ejecución y ejecuta todas las celdas de nuevo (puedes hacer esto desde el menú de entorno de ejecucción de la barra superior o pulsando Ctrl+ M + . y después Ctrl+ F9).\n",
        "\n"
      ],
      "metadata": {
        "id": "k-O2LH-dMgqy"
      }
    },
    {
      "cell_type": "markdown",
      "source": [
        "##Descomposicion en valores singulares (SVD)\n",
        "\n",
        "Una matriz A de m filas y n columnas se puede descomponer en:\n",
        "* Matirz U (m x m)\n",
        "* Matriz Sigma (m x n diagonal)\n",
        "* Matriz V^T o V transpuesta (n x n )\n",
        "\n",
        "      A(m x n)= U (m x m) . Sigma (m x n) . V^T (n x n)\n",
        "\n",
        "Donde los elementos de la diagonal de la matriz sigma son los valores singulares, las columnas de la matriz U son los vectores singulares izquierdos de A (left-singular vectors) y las columnas de la matriz V son los vectores singulares derechos de A (rigth-singular vectors)\n",
        "\n",
        "Se pueden obtener las matrices U, sigma y V^T importando la funcion svd del módulo numpy.linalg.\n",
        "\n",
        "\n",
        "\n",
        "Crea la función calcular_svd que tomando una matriz como parámetro devuelva un diccionario que contenga las claves 'U', 's' y 'V_T' y su respectiva matriz como valor.\n",
        "\n",
        "\n",
        "Ejemplo \n",
        "\n",
        "dada la matriz A:\n",
        "\n",
        "      [[1 2]\n",
        "      [5 7]\n",
        "      [8 9]]\n",
        "\n",
        "Entrada:\n",
        "\n",
        "      print(calcular_svd(A))\n",
        "\n",
        "Salida:\n",
        "\n",
        "      {'U': array([[-0.14599302, -0.55018941, -0.8221786 ],\n",
        "       [-0.57456139, -0.62939351,  0.52320456],\n",
        "       [-0.80533549,  0.5487763 , -0.22423053]]), 's': array([14.9398133 ,  0.89553249]), 'V_T': array([[-0.6333067 , -0.77390091],\n",
        "       [ 0.77390091, -0.6333067 ]])}"
      ],
      "metadata": {
        "id": "hUrInl1LeaE_"
      }
    },
    {
      "cell_type": "code",
      "source": [
        "from numpy.linalg import svd\n",
        "import numpy as np\n",
        "#Crea la funcion calcular_svd\n",
        "def calcular_svd(array1):\n",
        "  U,s,V_T=np.linalg.svd(array1)\n",
        "  result={'U':U,'s':s,'V_T':V_T}\n",
        "  return result\n",
        "\n",
        "\n",
        "\n",
        "\n",
        "\n",
        "\n",
        "A=np.array([[1,2],[5,7],[8,9]])\n",
        "print(calcular_svd(A))\n"
      ],
      "metadata": {
        "id": "EKnZJKZtgsgt",
        "colab": {
          "base_uri": "https://localhost:8080/"
        },
        "outputId": "57f91a62-433d-4442-f6f9-716705ea4370"
      },
      "execution_count": null,
      "outputs": [
        {
          "output_type": "stream",
          "name": "stdout",
          "text": [
            "{'U': array([[-0.14599302, -0.55018941, -0.8221786 ],\n",
            "       [-0.57456139, -0.62939351,  0.52320456],\n",
            "       [-0.80533549,  0.5487763 , -0.22423053]]), 's': array([14.9398133 ,  0.89553249]), 'V_T': array([[-0.6333067 , -0.77390091],\n",
            "       [ 0.77390091, -0.6333067 ]])}\n"
          ]
        }
      ]
    },
    {
      "cell_type": "code",
      "source": [
        "#@title Comprueba la funcion calcular_svd\n",
        "from numpy.linalg import svd\n",
        "import numpy as np\n",
        "A_check=np.array([[10,23],[58,71],[89,98],[16,40]])\n",
        "def check():\n",
        "  if str(calcular_svd(A_check))==\"{'U': array([[-0.14353134,  0.43448506, -0.28421655, -0.84252148],\\n       [-0.54635191,  0.04501559, -0.75033941,  0.36941028],\\n       [-0.78816521, -0.36517047,  0.4505506 , -0.20603468],\\n       [-0.24432346,  0.82209905,  0.391428  ,  0.33353157]]), 's': array([167.79646837,  16.10419829]), 'V_T': array([[-0.63874767, -0.76941628],\\n       [-0.76941628,  0.63874767]])}\":\n",
        "    return 'Correcto'\n",
        "  else:\n",
        "    return 'Incorrecto'\n",
        "check()"
      ],
      "metadata": {
        "id": "t7PoHeN_Wrwo",
        "cellView": "form",
        "colab": {
          "base_uri": "https://localhost:8080/",
          "height": 37
        },
        "outputId": "0fcfe0a2-8fb4-40f4-c820-9449fccce604"
      },
      "execution_count": null,
      "outputs": [
        {
          "output_type": "execute_result",
          "data": {
            "text/plain": [
              "'Correcto'"
            ],
            "application/vnd.google.colaboratory.intrinsic+json": {
              "type": "string"
            }
          },
          "metadata": {},
          "execution_count": 2
        }
      ]
    },
    {
      "cell_type": "markdown",
      "source": [
        "##Reconstruir la Matriz dese SVD\n",
        "\n",
        "Es posible reconstruir la matriz A desde los elementos de las matrices U,sigma y V^T.\n",
        "\n",
        "Antes hemos dicho que A se puede descomponer en:\n",
        "\n",
        "      A(m x n)= U (m x m) . Sigma (m x n) . V^T (n x n)\n",
        "\n",
        "Por lo que si multiplicamos matricialmente U,sigma y V^T volveríamos a obtener A.\n",
        "\n",
        "Crea la función reconstruir_svd que tome como parámetro una matriz U, una matriz sigma y una matriz V^T y devuelva la matriz resultante.\n",
        "\n",
        "Ten en cuenta que la matriz sigma obtenida al aplicar la función svd es de tamaño 1 x n y debería ser m x n para poder multiplicarse matricialmente. La función reconstruir_svd debe comprobar las dimensiones de la matriz sigma y corregirlas si no son las adecuadas.\n",
        "\n",
        "Entrada\n",
        "\n",
        "      dic=calcular_svd(A)\n",
        "      print(reconstruir_svd(dic['U'],dic['s'],dic['V_T']))\n",
        "\n",
        "Salida\n",
        "\n",
        "      [[1. 2.]\n",
        "      [5. 7.]\n",
        "      [8. 9.]]"
      ],
      "metadata": {
        "id": "hAayqPHZeZ7n"
      }
    },
    {
      "cell_type": "code",
      "source": [
        "from numpy.linalg import svd\n",
        "import numpy as np\n",
        "#Crea la funcion reconstruir_svd\n",
        "def reconstruir_svd(array2,array3,array4):\n",
        "  D=np.vstack((np.diag(array3),np.zeros((1,array3.shape[0]))))\n",
        "  result=array2.dot(D).dot(array4)\n",
        "\n",
        "  return result\n",
        "\n",
        "\n",
        "dic1=calcular_svd(A)\n",
        "print(reconstruir_svd(dic1['U'],dic1['s'],dic1['V_T']))\n"
      ],
      "metadata": {
        "id": "p6GRISkIm7vo",
        "colab": {
          "base_uri": "https://localhost:8080/"
        },
        "outputId": "a7c566c6-e869-4a7e-c2af-7188df718d05"
      },
      "execution_count": null,
      "outputs": [
        {
          "output_type": "stream",
          "name": "stdout",
          "text": [
            "[[1. 2.]\n",
            " [5. 7.]\n",
            " [8. 9.]]\n"
          ]
        }
      ]
    },
    {
      "cell_type": "code",
      "source": [
        "#@title Comprueba la funcion reconstruir_svd\n",
        "A_check2=np.array([[3,5,8,10],[11,13,25,19],[2,6,17,29],[3,5,2,1],[7,9,5,4]],float)\n",
        "dic_check2=calcular_svd(A_check2)\n",
        "result=reconstruir_svd(dic_check2['U'],dic_check2['s'],dic_check2['V_T'])\n",
        "def check2():\n",
        "  if str(result)==str(A_check2):\n",
        "    return 'Correcto'\n",
        "  else:\n",
        "    return 'Incorrecto'\n",
        "\n",
        "check2()"
      ],
      "metadata": {
        "cellView": "form",
        "id": "XTf043BBYX8h",
        "colab": {
          "base_uri": "https://localhost:8080/",
          "height": 37
        },
        "outputId": "1707931b-9f8c-4303-a6c3-9213d20af4b4"
      },
      "execution_count": null,
      "outputs": [
        {
          "output_type": "execute_result",
          "data": {
            "text/plain": [
              "'Correcto'"
            ],
            "application/vnd.google.colaboratory.intrinsic+json": {
              "type": "string"
            }
          },
          "metadata": {},
          "execution_count": 4
        }
      ]
    },
    {
      "cell_type": "markdown",
      "source": [
        "#SVD para Pseudoinversa\n",
        "\n",
        "Si la matriz es cuadrada es posible calcular la matriz inversa, pero si se trata de una matriz cuadrada (no tiene el mismo numero de filas y columnas) no es posible calcular la matriz inversa.\n",
        "\n",
        "En cambio si es posible calcular la matriz pseudoinversa, tambien llamada inversa generalizada o inversa de Moore-Penrose, en honor a dos descubridores del método que trabajaron independientes el uno del otro.\n",
        "\n",
        "El pseudoinverso se denota como A^+, donde A es la matriz que se invierte y + es un superíndice. Para calcularla se aplica la siguiente fórmula:\n",
        "\n",
        "      A^+ = V . D^+ . U^T\n",
        "\n",
        "Siendo los SVD U,Sigma y V^T podemos obtener:\n",
        "\n",
        "* U^T: Calculando la transpuesta de U\n",
        "* V: calculando la transpuesta de V^T, puesto que como sanes la transpuesta de la transpuesta es la original.\n",
        "* D^+: se puede calular creando la matriz diagonal sigma y calculando el valor inverso de cada elelemtno de la diagonal.\n",
        "\n",
        "Crear la función pseuinversa que tomando una matriz como parámetro calcule su pseudoinversa.\n",
        "\n"
      ],
      "metadata": {
        "id": "hYFPWN6JuFMh"
      }
    },
    {
      "cell_type": "code",
      "source": [
        "from numpy.linalg import svd\n",
        "import numpy as np\n",
        "#Crea la función pseudoinversa\n",
        "\n",
        "def pseudoinversa(array5):\n",
        "  U,s,V_T=np.linalg.svd(array5)\n",
        "  U_T=np.transpose(U)\n",
        "  V=np.transpose(V_T)\n",
        "  D_T=np.hstack((np.diag(1/s),np.zeros((2,s.shape[0]))))\n",
        "\n",
        "  result=V.dot(D_T).dot(U_T)\n",
        "  return result\n",
        "\n",
        "A=np.array([[0.1,0.2],[0.3,0.4],[0.5,0.6],[0.7,0.8]])\n",
        "\n",
        "print(pseudoinversa(A))\n",
        "\n"
      ],
      "metadata": {
        "id": "BrFTu0V_xcKa",
        "colab": {
          "base_uri": "https://localhost:8080/"
        },
        "outputId": "7a75c023-4ad9-4b0f-d18f-5e650305a9d6"
      },
      "execution_count": null,
      "outputs": [
        {
          "output_type": "stream",
          "name": "stdout",
          "text": [
            "[[-1.00000000e+01 -5.00000000e+00  1.42578328e-14  5.00000000e+00]\n",
            " [ 8.50000000e+00  4.50000000e+00  5.00000000e-01 -3.50000000e+00]]\n"
          ]
        }
      ]
    },
    {
      "cell_type": "code",
      "source": [
        "from numpy.linalg import svd\n",
        "import numpy as np\n",
        "#@title Comprueba la funcion pseudoinversa\n",
        "A_check3=np.array([[3,5],[2,7],[9,2],[6,4]])\n",
        "result=pseudoinversa(A_check3)\n",
        "def check3():\n",
        "  if str(result)==str(np.linalg.pinv(A_check3)):\n",
        "    return 'Correcto'\n",
        "  else:\n",
        "    return 'Incorrecto'\n",
        "check3()"
      ],
      "metadata": {
        "id": "psRH8RSndD41",
        "cellView": "form",
        "colab": {
          "base_uri": "https://localhost:8080/",
          "height": 37
        },
        "outputId": "37255300-5037-4a7f-92cf-47ba5d8f125b"
      },
      "execution_count": null,
      "outputs": [
        {
          "output_type": "execute_result",
          "data": {
            "text/plain": [
              "'Correcto'"
            ],
            "application/vnd.google.colaboratory.intrinsic+json": {
              "type": "string"
            }
          },
          "metadata": {},
          "execution_count": 6
        }
      ]
    },
    {
      "cell_type": "markdown",
      "source": [
        "##SVD para reducir las dimensiones lineales de una matriz\n",
        "\n",
        "Los datos con un gran número de características, es decir más características (columnas) que observaciones (filas), pueden reducirse a un subconjunto más pequeño de características que sean más relevantes para el problema de predicción.\n",
        "\n",
        "El resultado es una matriz con un rango inferior que se aproxima a la matriz original.\n",
        "\n",
        "Para ello, podemos realizar una operación SVD sobre los datos originales y seleccionar los k mayores valores singulares de Sigma. Estas columnas se pueden seleccionar de Sigma y las filas de V^T.\n",
        "\n",
        "Entonces se puede reconstruir una matriz B aproximada de la matriz A original aplicando la siguiente fórmula:\n",
        "\n",
        "      B (m x n) = U (m x m) . Sigmak (m x k). V^Tk (k x n)\n",
        "\n",
        "En el procesamiento del lenguaje natural, este enfoque puede utilizarse en matrices de ocurrencias de palabras o frecuencias de palabras en los documentos (como el que preparaste en el proyecto de Bag of Words) y se denomina análisis semántico latente o indexación semántica latente.\n",
        "\n",
        "En la práctica podemos utilizar otra matriz aún más simplificada que B, denominada T. Hay dos formas de calcular T:\n",
        "\n",
        "      T (m x k)= U (m x m). Sigmak (m x k)\n",
        "      T (m x k)= A (m x n) . V^KT (n x k)\n",
        "\n",
        "Donde V^KT se calcula realizando la transpuesta al subconjunto de elementos de V^T (k x n) \n",
        "Crea la funcion reducir_dimensiones1 que tome como parámetro una matriz y el número de características (columnas, k valores singulares) que se desea tener en cuenta y devuelva la matriz T (m x k) aplicando la primera fórmula y otra función reducir_dimensiones2 que haga lo mismo pero aplicando la segunda fórmula.\n"
      ],
      "metadata": {
        "id": "-Tb8OG3kxiKY"
      }
    },
    {
      "cell_type": "code",
      "source": [
        "from numpy.linalg import svd\n",
        "import numpy as np\n",
        "def reducir_dimensiones1(array6,k1):\n",
        "  U,s,V_T=np.linalg.svd(array6)\n",
        "  s_max=s[:k1] #np.array([np.sort(s)[-1-i] for i in range(k1)])\n",
        "  if array6.shape[0]==s_max.shape[0]:\n",
        "    s_k=np.vstack((np.diag(s_max),np.zeros((0,s_max.shape[0]))))\n",
        "  else:\n",
        "    s_k=np.vstack((np.diag(s_max),np.zeros((1,s_max.shape[0]))))\n",
        "  \n",
        "  T=U.dot(s_k)\n",
        "\n",
        "  return T\n",
        "\n",
        "#Crea la funcion reducir_dimensiones2\n",
        "def reducir_dimensiones2(array7,k2):\n",
        "  U,s,V_T=np.linalg.svd(array7)\n",
        "  V_T_max=V_T[:k2,:]\n",
        "  V_kT=np.transpose(V_T_max)\n",
        "\n",
        "  T=array7.dot(V_kT)\n",
        "\n",
        "  return T\n",
        "\n",
        "\n",
        "\n",
        "\n",
        "\n",
        "\n",
        "A=np.array([[1,2,3,4,5,6,7,8,9,10],[11,12,13,14,15,16,17,18,19,20],[21,22,23,24,25,26,27,28,29,30]])\n",
        "\n",
        "print(reducir_dimensiones1(A,2))\n",
        "\n",
        "print('.......')\n",
        "\n",
        "print(reducir_dimensiones2(A,2))\n",
        "\n"
      ],
      "metadata": {
        "id": "p9j_hfRaRiQG",
        "colab": {
          "base_uri": "https://localhost:8080/"
        },
        "outputId": "db0c932d-9f42-45b6-9acf-307e78315c93"
      },
      "execution_count": null,
      "outputs": [
        {
          "output_type": "stream",
          "name": "stdout",
          "text": [
            "[[-18.52157747   6.47697214]\n",
            " [-49.81310011   1.91182038]\n",
            " [-81.10462276  -2.65333138]]\n",
            ".......\n",
            "[[-18.52157747   6.47697214]\n",
            " [-49.81310011   1.91182038]\n",
            " [-81.10462276  -2.65333138]]\n"
          ]
        }
      ]
    },
    {
      "cell_type": "code",
      "source": [
        "#@title Comprueba las funciones reducir_dimensiones1 y reducir_dimensiones2 \n",
        "from numpy.linalg import svd\n",
        "import numpy as np\n",
        "A_check4=np.array([[11,32,53,14,35,56,17,38,59,110],[211,612,713,214,615,716,217,618,719,220],[421,622,923,424,625,926,427,628,929,30]])\n",
        "def check4():\n",
        "  if str(reducir_dimensiones1(A_check4,3))==str(reducir_dimensiones2(A_check4,3)):\n",
        "    return 'Correcto'\n",
        "  else:\n",
        "    return 'Incorrecto'\n",
        "check4()"
      ],
      "metadata": {
        "id": "pjiYLp-3eSFg",
        "cellView": "form",
        "colab": {
          "base_uri": "https://localhost:8080/",
          "height": 37
        },
        "outputId": "37367506-7d3f-4574-aee9-bbca5c5c41dc"
      },
      "execution_count": null,
      "outputs": [
        {
          "output_type": "execute_result",
          "data": {
            "text/plain": [
              "'Correcto'"
            ],
            "application/vnd.google.colaboratory.intrinsic+json": {
              "type": "string"
            }
          },
          "metadata": {},
          "execution_count": 8
        }
      ]
    },
    {
      "cell_type": "code",
      "source": [
        "#@title Consigue el Token para corregir en Nodd3r:\n",
        "from numpy.linalg import svd\n",
        "import numpy as np\n",
        "import hashlib\n",
        "A_token1=np.array([[1,3,4],[4,9,5],[1,2,3],[7,8,9]])\n",
        "A_token2=np.array([[1,3,4,9,10],[4,9,5,7,3],[1,2,3,4,5]])\n",
        "dic_token=calcular_svd(A_token1)\n",
        "pwd = hashlib.sha256((str(calcular_svd(A_token1))+str(reducir_dimensiones1(A_token2,2))+str(reconstruir_svd(dic_token['U'],dic_token['s'],dic_token['V_T']))).encode())\n",
        "#print('El token es:\\n',pwd.hexdigest())\n",
        "if pwd.hexdigest()[0:6] == 'c9fd41':\n",
        "  print('¡Felicidades! puedes avanzar al siguiente modulo \\n El token es: ',pwd.hexdigest())\n",
        "else:\n",
        "  print('Hay algún error en el código o tu forma es diferente a la planteada, pregunta por el foro si no lo ves claro.')"
      ],
      "metadata": {
        "id": "aYw9B4R2G8s3",
        "colab": {
          "base_uri": "https://localhost:8080/"
        },
        "outputId": "cbe28e51-1257-4ca6-db61-05900a6fd7f2"
      },
      "execution_count": null,
      "outputs": [
        {
          "output_type": "stream",
          "name": "stdout",
          "text": [
            "¡Felicidades! puedes avanzar al siguiente modulo \n",
            " El token es:  c9fd4113cc831baaac5fae233476c061e1c48b19610472694b729b295d0bc3f4\n"
          ]
        }
      ]
    },
    {
      "cell_type": "markdown",
      "source": [
        "Una vez que has visto como se calcula manualmente la pseudoinversa y la matriz transformada T para la reducción dimensional de matrices, existen funciones ya predefinidas que facilitan estos procesos.\n"
      ],
      "metadata": {
        "id": "GE4j4jFihEe0"
      }
    },
    {
      "cell_type": "code",
      "source": [
        "from numpy.linalg import svd\n",
        "import numpy as np\n",
        "#calcular pseudoinversa\n",
        "\n",
        "matriz=np.array([[1,3,4,9,10],[4,9,5,7,3],[1,2,3,4,5]])\n",
        "print('Matriz original:\\n', matriz)\n",
        "print('Matriz pseudoinversa:\\n',np.linalg.pinv(matriz))\n",
        "\n",
        "#calcular T transformada\n",
        "import sklearn.decomposition as skd\n",
        "svd = skd.TruncatedSVD(n_components=2)\n",
        "svd.fit(matriz)\n",
        "result = svd.transform(matriz)\n",
        "print('Matriz transformada:\\n', result)"
      ],
      "metadata": {
        "id": "AK7pRCoTipIE",
        "colab": {
          "base_uri": "https://localhost:8080/"
        },
        "outputId": "1f40ebf1-6bcc-4d36-dc8c-a428155ed11a"
      },
      "execution_count": null,
      "outputs": [
        {
          "output_type": "stream",
          "name": "stdout",
          "text": [
            "Matriz original:\n",
            " [[ 1  3  4  9 10]\n",
            " [ 4  9  5  7  3]\n",
            " [ 1  2  3  4  5]]\n",
            "Matriz pseudoinversa:\n",
            " [[-0.10470085  0.02564103  0.18076923]\n",
            " [ 0.00320513  0.09615385 -0.10961538]\n",
            " [-0.30662393 -0.03205128  0.68653846]\n",
            " [ 0.28525641  0.05769231 -0.55576923]\n",
            " [-0.02457265 -0.07051282  0.24038462]]\n",
            "Matriz transformada:\n",
            " [[13.7495653  -4.21808261]\n",
            " [12.18995789  5.60351686]\n",
            " [ 7.22417326 -1.4271297 ]]\n"
          ]
        }
      ]
    }
  ]
}